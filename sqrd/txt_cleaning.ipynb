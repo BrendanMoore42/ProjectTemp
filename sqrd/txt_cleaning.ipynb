{
 "cells": [
  {
   "cell_type": "code",
   "execution_count": 4,
   "metadata": {
    "ExecuteTime": {
     "end_time": "2018-10-04T17:33:24.666893Z",
     "start_time": "2018-10-04T17:33:23.197397Z"
    }
   },
   "outputs": [],
   "source": [
    "import pandas as pd"
   ]
  },
  {
   "cell_type": "code",
   "execution_count": 26,
   "metadata": {
    "ExecuteTime": {
     "end_time": "2018-10-04T18:14:22.663348Z",
     "start_time": "2018-10-04T18:14:22.647595Z"
    }
   },
   "outputs": [],
   "source": [
    "with open('imdbtop250.txt', 'r') as f:\n",
    "    lines = f.readlines()\n",
    "new_lines = []\n",
    "for line in lines:\n",
    "    new_line = line.replace(' ', '_').replace('\"', '').rstrip()\n",
    "    new_line = new_line + '.mp4'\n",
    "    new_lines.append(new_line)"
   ]
  },
  {
   "cell_type": "code",
   "execution_count": 27,
   "metadata": {
    "ExecuteTime": {
     "end_time": "2018-10-04T18:14:45.652582Z",
     "start_time": "2018-10-04T18:14:45.573129Z"
    }
   },
   "outputs": [],
   "source": [
    "for line in new_lines:\n",
    "    with open(f'mp4_list/{line}', 'w') as f:\n",
    "        f.write('')"
   ]
  },
  {
   "cell_type": "code",
   "execution_count": null,
   "metadata": {
    "ExecuteTime": {
     "start_time": "2018-10-04T18:20:11.362Z"
    }
   },
   "outputs": [],
   "source": [
    "from datetime import timedelta\n",
    "from babelfish import Language\n",
    "from subliminal import download_best_subtitles, region, save_subtitles, scan_videos\n",
    "\n",
    "# configure the cache --run once\n",
    "#region.configure('dogpile.cache.dbm', arguments={'filename': 'cachefile.dbm'})\n",
    "\n",
    "# scans video folder\n",
    "videos = scan_videos('mp4_list/')\n",
    "\n",
    "# download best subtitles\n",
    "subtitles = download_best_subtitles(videos, {Language('eng')})\n",
    "\n",
    "# save subs to folder\n",
    "for v in videos:\n",
    "    print(v)\n",
    "    save_subtitles(v, subtitles[v], directory='subs/')"
   ]
  },
  {
   "cell_type": "code",
   "execution_count": null,
   "metadata": {},
   "outputs": [],
   "source": []
  }
 ],
 "metadata": {
  "kernelspec": {
   "display_name": "Python 3",
   "language": "python",
   "name": "python3"
  },
  "language_info": {
   "codemirror_mode": {
    "name": "ipython",
    "version": 3
   },
   "file_extension": ".py",
   "mimetype": "text/x-python",
   "name": "python",
   "nbconvert_exporter": "python",
   "pygments_lexer": "ipython3",
   "version": "3.6.5"
  }
 },
 "nbformat": 4,
 "nbformat_minor": 2
}
