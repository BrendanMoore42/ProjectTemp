{
 "cells": [
  {
   "cell_type": "code",
   "execution_count": 34,
   "metadata": {},
   "outputs": [],
   "source": [
    "import pandas as pd\n",
    "import numpy as np\n",
    "import time"
   ]
  },
  {
   "cell_type": "code",
   "execution_count": 63,
   "metadata": {},
   "outputs": [],
   "source": [
    "#set ranges for search years\n",
    "start_range = np.arange(1982, 2015, 2)\n",
    "end_range = np.arange(1983, 2016, 2)"
   ]
  },
  {
   "cell_type": "code",
   "execution_count": 164,
   "metadata": {},
   "outputs": [],
   "source": [
    "#set empty list to hold tables\n",
    "df_list = []\n",
    "\n",
    "#loop over lotto tables\n",
    "for i, j in zip(start_range, end_range):\n",
    "    #read table\n",
    "    table = pd.read_html(f'http://www.lotto649stats.com/winning-numbers-{i}-{j}.html')\n",
    "    #create df and extract dates\n",
    "    df = pd.DataFrame(table[0])\n",
    "    df = df.iloc[4:,].iloc[:,:8]\n",
    "    #add each df to holding list\n",
    "    df_list.append(df)\n",
    "    \n",
    "#concat list together, drop NA's and rename Date column\n",
    "df_master = pd.concat(df_list)\n",
    "df_past = df_master.dropna(axis=0).rename(columns={0:'Date'}).copy()"
   ]
  },
  {
   "cell_type": "code",
   "execution_count": 167,
   "metadata": {},
   "outputs": [
    {
     "name": "stdout",
     "output_type": "stream",
     "text": [
      "                    0   1   2   3   4   5   6   7\n",
      "4  September 15, 2018   3   4  18  24  32  36  19\n",
      "5  September 12, 2018  14  21  27  32  35  43  41\n",
      "6   September 8, 2018   8  10  31  41  46  47  45\n",
      "7   September 5, 2018   4   6  15  32  36  47  48\n",
      "8   September 1, 2018   8  12  15  34  37  44  45\n",
      "                 Date   1   2   3   4   5   6   7\n",
      "0  September 19, 2015  12  15  17  21  25  32  14\n",
      "1  September 23, 2015   7  13  19  35  42  44  46\n",
      "2  September 26, 2015   6  13  14  24  32  34  12\n",
      "3  September 30, 2015   1   6   8  13  21  26   3\n",
      "4     October 3, 2015   1   3  15  27  31  36  33\n"
     ]
    }
   ],
   "source": [
    "def get_current():\n",
    "    #returns current lotto results in dataframe\n",
    "    #grab table\n",
    "    table = pd.read_html('http://www.lotto649stats.com/recent_winning.html')\n",
    "    #extract just the information we want\n",
    "    df = pd.DataFrame(table[0])\n",
    "    df = df.iloc[4:,].iloc[:,:8]\n",
    "    print(df.head(5))\n",
    "    #reverse the order, replace column with date\n",
    "    df = df.iloc[::-1,:].reset_index().drop('index', axis=1)\n",
    "    df = df.dropna(axis=0).rename(columns={0:'Date'})\n",
    "    print(df.head(5))\n",
    "    #return df as a variable\n",
    "    return df\n",
    "\n",
    "#create df variable\n",
    "df_current = get_current()"
   ]
  },
  {
   "cell_type": "code",
   "execution_count": 172,
   "metadata": {},
   "outputs": [],
   "source": [
    "#create final dataframe with everything\n",
    "df_final = df_past.append(df_current, ignore_index=True)"
   ]
  },
  {
   "cell_type": "code",
   "execution_count": 173,
   "metadata": {},
   "outputs": [],
   "source": [
    "#create file\n",
    "#df_final.to_csv('lotto_final_19_08_18.csv')"
   ]
  }
 ],
 "metadata": {
  "kernelspec": {
   "display_name": "Python 3",
   "language": "python",
   "name": "python3"
  },
  "language_info": {
   "codemirror_mode": {
    "name": "ipython",
    "version": 3
   },
   "file_extension": ".py",
   "mimetype": "text/x-python",
   "name": "python",
   "nbconvert_exporter": "python",
   "pygments_lexer": "ipython3",
   "version": "3.6.5"
  }
 },
 "nbformat": 4,
 "nbformat_minor": 2
}
