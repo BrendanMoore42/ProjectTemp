{
 "cells": [
  {
   "cell_type": "markdown",
   "metadata": {},
   "source": [
    "### Create MIDI Cipher\n",
    "\n",
    "\n",
    "ex midi:\n",
    "0 Tempo 279070\n",
    "0 Meta TrkName \"Super Mario All Stars SMB 3 overworld 1\"\n",
    "0 Meta Copyright \"Koji Kondo\"\n",
    "0 KeySig 0 major\n",
    "0 TimeSig 4/4 24 8\n",
    "0 Meta TrkEnd\n",
    "TrkEnd\n",
    "MTrk\n",
    "0 PrCh ch=1 p=56\n",
    "0 Meta InstrName \"Trumpet\"\n",
    "0 On ch=1 n=43 v=95\n",
    "0 On ch=1 n=55 v=95\n",
    "346 Off ch=1 n=43 v=0\n",
    "346 Off ch=1 n=55 v=0\n",
    "768 On ch=1 n=43 v=95\n",
    "768 On ch=1 n=55 v=95\n",
    "1114 Off ch=1 n=43 v=0\n",
    "1114 Off ch=1 n=55 v=0\n",
    "1152 On ch=1 n=55 v=95\n",
    "1152 On ch=1 n=67 v=95\n",
    "1498 Off ch=1 n=55 v=0\n",
    "1498 Off ch=1 n=67 v=0\n",
    "\n",
    "{tick}{instrument}{note}{velocity}{instrument}{etc..}{}{}\n",
    "\n",
    "\n"
   ]
  },
  {
   "cell_type": "code",
   "execution_count": null,
   "metadata": {},
   "outputs": [],
   "source": []
  }
 ],
 "metadata": {
  "kernelspec": {
   "display_name": "Python 3",
   "language": "python",
   "name": "python3"
  },
  "language_info": {
   "codemirror_mode": {
    "name": "ipython",
    "version": 3
   },
   "file_extension": ".py",
   "mimetype": "text/x-python",
   "name": "python",
   "nbconvert_exporter": "python",
   "pygments_lexer": "ipython3",
   "version": "3.6.5"
  }
 },
 "nbformat": 4,
 "nbformat_minor": 2
}
