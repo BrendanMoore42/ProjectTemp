{
 "cells": [
  {
   "cell_type": "markdown",
   "metadata": {},
   "source": [
    "### Create MIDI Cipher\n",
    "\n",
    "\n",
    "example midi: <br>\n",
    "0 Tempo 279070<br>\n",
    "0 Meta TrkName \"Super Mario All Stars SMB 3 overworld 1\"<br>\n",
    "0 Meta Copyright \"Koji Kondo\"<br>\n",
    "0 KeySig 0 major<br>\n",
    "0 TimeSig 4/4 24 8<br>\n",
    "0 Meta TrkEnd<br>\n",
    "TrkEnd<br>\n",
    "MTrk<br>\n",
    "0 PrCh ch=1 p=56<br>\n",
    "0 Meta InstrName \"Trumpet\"<br>\n",
    "0 On ch=1 n=43 v=95<br>\n",
    "0 On ch=1 n=55 v=95<br>\n",
    "346 Off ch=1 n=43 v=0<br>\n",
    "346 Off ch=1 n=55 v=0<br>\n",
    "768 On ch=1 n=43 v=95<br>\n",
    "768 On ch=1 n=55 v=95<br>\n",
    "1114 Off ch=1 n=43 v=0<br>\n",
    "1114 Off ch=1 n=55 v=0<br>\n",
    "1152 On ch=1 n=55 v=95<br>\n",
    "1152 On ch=1 n=67 v=95<br>\n",
    "1498 Off ch=1 n=55 v=0<br>\n",
    "1498 Off ch=1 n=67 v=0<br>\n",
    "\n",
    "{tick}{instrument}{note}{velocity}{instrument}{etc..}{}{}\n",
    "\n",
    "\n"
   ]
  },
  {
   "cell_type": "code",
   "execution_count": 7,
   "metadata": {
    "ExecuteTime": {
     "end_time": "2018-12-02T18:26:48.289485Z",
     "start_time": "2018-12-02T18:26:48.283465Z"
    }
   },
   "outputs": [
    {
     "data": {
      "text/plain": [
       "72800.0"
      ]
     },
     "execution_count": 7,
     "metadata": {},
     "output_type": "execute_result"
    }
   ],
   "source": [
    "80 * 35 * 52/2"
   ]
  },
  {
   "cell_type": "code",
   "execution_count": null,
   "metadata": {},
   "outputs": [],
   "source": []
  }
 ],
 "metadata": {
  "kernelspec": {
   "display_name": "Python 3",
   "language": "python",
   "name": "python3"
  },
  "language_info": {
   "codemirror_mode": {
    "name": "ipython",
    "version": 3
   },
   "file_extension": ".py",
   "mimetype": "text/x-python",
   "name": "python",
   "nbconvert_exporter": "python",
   "pygments_lexer": "ipython3",
   "version": "3.6.5"
  }
 },
 "nbformat": 4,
 "nbformat_minor": 2
}
