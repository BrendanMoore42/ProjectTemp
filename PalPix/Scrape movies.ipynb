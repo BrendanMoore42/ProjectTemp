{
 "cells": [
  {
   "cell_type": "markdown",
   "metadata": {},
   "source": [
    "### Scraping Top 250 IMDB Movie Titles"
   ]
  },
  {
   "cell_type": "code",
   "execution_count": 5,
   "metadata": {
    "ExecuteTime": {
     "end_time": "2018-09-23T00:43:35.761466Z",
     "start_time": "2018-09-23T00:43:35.753246Z"
    }
   },
   "outputs": [],
   "source": [
    "#import packages\n",
    "import pandas as pd\n",
    "import numpy as np"
   ]
  },
  {
   "cell_type": "code",
   "execution_count": 11,
   "metadata": {
    "ExecuteTime": {
     "end_time": "2018-09-23T00:45:23.590776Z",
     "start_time": "2018-09-23T00:45:21.897716Z"
    }
   },
   "outputs": [],
   "source": [
    "#read table into df\n",
    "df = pd.read_html('https://www.imdb.com/chart/top')\n",
    "#isolate target table for cleaning\n",
    "df = df[0]"
   ]
  },
  {
   "cell_type": "code",
   "execution_count": 18,
   "metadata": {
    "ExecuteTime": {
     "end_time": "2018-09-23T00:47:58.417843Z",
     "start_time": "2018-09-23T00:47:58.407854Z"
    }
   },
   "outputs": [
    {
     "data": {
      "text/plain": [
       "0    The Shawshank Redemption\n",
       "1               The Godfather\n",
       "2      The Godfather: Part II\n",
       "3             The Dark Knight\n",
       "4                12 Angry Men\n",
       "Name: Title, dtype: object"
      ]
     },
     "execution_count": 18,
     "metadata": {},
     "output_type": "execute_result"
    }
   ],
   "source": [
    "#clean table\n",
    "#use lambda function to take just the movie title\n",
    "df['Title'] = df['Rank & Title'].apply(lambda x: x[4:-8]).apply(lambda x: x.lstrip())\n",
    "df = df['Title']\n",
    "df.head()"
   ]
  },
  {
   "cell_type": "code",
   "execution_count": 19,
   "metadata": {
    "ExecuteTime": {
     "end_time": "2018-09-23T00:48:00.240520Z",
     "start_time": "2018-09-23T00:48:00.230280Z"
    }
   },
   "outputs": [],
   "source": [
    "#save file to text\n",
    "df.to_csv('test_list.txt', index=False)"
   ]
  }
 ],
 "metadata": {
  "kernelspec": {
   "display_name": "Python 3",
   "language": "python",
   "name": "python3"
  },
  "language_info": {
   "codemirror_mode": {
    "name": "ipython",
    "version": 3
   },
   "file_extension": ".py",
   "mimetype": "text/x-python",
   "name": "python",
   "nbconvert_exporter": "python",
   "pygments_lexer": "ipython3",
   "version": "3.6.5"
  }
 },
 "nbformat": 4,
 "nbformat_minor": 2
}
